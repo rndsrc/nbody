{
 "cells": [
  {
   "cell_type": "code",
   "execution_count": 1,
   "id": "30aa51e8-c19d-4e71-a016-57fc38a21f3f",
   "metadata": {},
   "outputs": [],
   "source": [
    "import numpy as np"
   ]
  },
  {
   "cell_type": "code",
   "execution_count": 2,
   "id": "31835eca-42b4-40df-9e13-0a519d66ca0f",
   "metadata": {},
   "outputs": [],
   "source": [
    "def read(i):\n",
    "    d = np.fromfile(f'{i:06d}.raw', dtype='float32')\n",
    "    n = d.shape[0] // 6\n",
    "    if n * 6 != d.shape[0]:\n",
    "        raise Exception(\"Unexpected file size.\")\n",
    "    return d.reshape((2,3,n))"
   ]
  },
  {
   "cell_type": "code",
   "execution_count": 3,
   "id": "78d79264-16df-4345-a813-ca692f035b8b",
   "metadata": {},
   "outputs": [
    {
     "name": "stdout",
     "output_type": "stream",
     "text": [
      "1.0\n",
      "1.9999902\n",
      "3.9999635\n",
      "7.999898\n",
      "15.999697\n",
      "31.999216\n",
      "63.998245\n",
      "127.99582\n",
      "255.99046\n",
      "511.97894\n",
      "1023.95184\n",
      "2047.893\n",
      "4095.7686\n",
      "8191.5186\n",
      "16382.93\n",
      "32765.754\n",
      "65531.207\n",
      "131061.945\n",
      "262122.27\n",
      "524241.94\n",
      "1048477.75\n",
      "2096950.0\n",
      "4193880.8\n",
      "8387720.5\n",
      "16775364.0\n",
      "33550620.0\n",
      "67100908.0\n",
      "134200984.0\n",
      "268400660.0\n",
      "536798500.0\n",
      "1073591040.0\n",
      "2147172400.0\n"
     ]
    }
   ],
   "source": [
    "for i in range(32):\n",
    "    s = read(i)\n",
    "    try:\n",
    "        s0\n",
    "    except:\n",
    "        s0 = np.sum(s)\n",
    "    print(np.sum(s) / s0)"
   ]
  },
  {
   "cell_type": "code",
   "execution_count": null,
   "id": "e4c6c914-8abb-4af1-ab48-6bf3438ec5e4",
   "metadata": {},
   "outputs": [],
   "source": []
  }
 ],
 "metadata": {
  "kernelspec": {
   "display_name": "Python 3 (ipykernel)",
   "language": "python",
   "name": "python3"
  },
  "language_info": {
   "codemirror_mode": {
    "name": "ipython",
    "version": 3
   },
   "file_extension": ".py",
   "mimetype": "text/x-python",
   "name": "python",
   "nbconvert_exporter": "python",
   "pygments_lexer": "ipython3",
   "version": "3.10.7"
  }
 },
 "nbformat": 4,
 "nbformat_minor": 5
}
