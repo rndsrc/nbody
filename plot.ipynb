{
 "cells": [
  {
   "cell_type": "code",
   "execution_count": 1,
   "id": "30aa51e8-c19d-4e71-a016-57fc38a21f3f",
   "metadata": {},
   "outputs": [],
   "source": [
    "from glob import glob\n",
    "import numpy as np\n",
    "from tqdm import tqdm\n",
    "\n",
    "from matplotlib import pyplot as plt"
   ]
  },
  {
   "cell_type": "code",
   "execution_count": 6,
   "id": "31835eca-42b4-40df-9e13-0a519d66ca0f",
   "metadata": {},
   "outputs": [],
   "source": [
    "def read(f):\n",
    "    d = np.fromfile(f, dtype='float32')\n",
    "    n = d.shape[0] // 6\n",
    "    if n * 6 != d.shape[0]:\n",
    "        raise Exception(\"Unexpected file size.\")\n",
    "    return d.reshape((n,2,3))"
   ]
  },
  {
   "cell_type": "code",
   "execution_count": 9,
   "id": "78d79264-16df-4345-a813-ca692f035b8b",
   "metadata": {},
   "outputs": [
    {
     "name": "stderr",
     "output_type": "stream",
     "text": [
      "100%|█████████████████████████████████████████████████████████████████████████████████████████| 129/129 [00:09<00:00, 13.50it/s]\n"
     ]
    }
   ],
   "source": [
    "for f in tqdm(sorted(glob('*.raw'))):\n",
    "    x = read(f)[:,0,:]\n",
    "    \n",
    "    fig, ax = plt.subplots(1, figsize=(8,8))\n",
    "    ax.scatter(x[:,0],x[:,1])\n",
    "    ax.set_aspect('equal')\n",
    "    ax.set_xlim(-1,1)\n",
    "    ax.set_ylim(-1,1)\n",
    "    fig.savefig(f.replace('raw','png'))\n",
    "    plt.close(fig)"
   ]
  },
  {
   "cell_type": "code",
   "execution_count": null,
   "id": "7fad1436-a561-4737-a1d0-a04157291345",
   "metadata": {},
   "outputs": [],
   "source": []
  }
 ],
 "metadata": {
  "kernelspec": {
   "display_name": "Python 3 (ipykernel)",
   "language": "python",
   "name": "python3"
  },
  "language_info": {
   "codemirror_mode": {
    "name": "ipython",
    "version": 3
   },
   "file_extension": ".py",
   "mimetype": "text/x-python",
   "name": "python",
   "nbconvert_exporter": "python",
   "pygments_lexer": "ipython3",
   "version": "3.10.7"
  }
 },
 "nbformat": 4,
 "nbformat_minor": 5
}
